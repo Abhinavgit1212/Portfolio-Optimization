{
 "cells": [
  {
   "cell_type": "markdown",
   "id": "83f8f961",
   "metadata": {},
   "source": [
    "## Portfolio Optimization using Monte Carlo simulations"
   ]
  },
  {
   "cell_type": "markdown",
   "id": "97421b57",
   "metadata": {},
   "source": [
    "The following code would run iterative monte carlo simulations to create a sharpe optimised portfolio. For the purpose of this project we have selected BAJFINANCE, AXISBANK and ASIANPAINT. The flow of this project would involve extracting the data corresponding to the aformentioned securities, assigning randomized weights to the securities of our portfolio and working iteratively through those random weights until we find a sharpe optimized portfolio for the instruments we have considered. "
   ]
  },
  {
   "cell_type": "code",
   "execution_count": 98,
   "id": "171ac0da",
   "metadata": {},
   "outputs": [
    {
     "data": {
      "text/html": [
       "<div>\n",
       "<style scoped>\n",
       "    .dataframe tbody tr th:only-of-type {\n",
       "        vertical-align: middle;\n",
       "    }\n",
       "\n",
       "    .dataframe tbody tr th {\n",
       "        vertical-align: top;\n",
       "    }\n",
       "\n",
       "    .dataframe thead th {\n",
       "        text-align: right;\n",
       "    }\n",
       "</style>\n",
       "<table border=\"1\" class=\"dataframe\">\n",
       "  <thead>\n",
       "    <tr style=\"text-align: right;\">\n",
       "      <th>Symbol</th>\n",
       "      <th>ASIANPAINT</th>\n",
       "      <th>AXISBANK</th>\n",
       "      <th>BAJFINANCE</th>\n",
       "    </tr>\n",
       "    <tr>\n",
       "      <th>Date</th>\n",
       "      <th></th>\n",
       "      <th></th>\n",
       "      <th></th>\n",
       "    </tr>\n",
       "  </thead>\n",
       "  <tbody>\n",
       "    <tr>\n",
       "      <th>2000-01-03</th>\n",
       "      <td>381.65</td>\n",
       "      <td>26.70</td>\n",
       "      <td>50.75</td>\n",
       "    </tr>\n",
       "    <tr>\n",
       "      <th>2000-01-04</th>\n",
       "      <td>385.55</td>\n",
       "      <td>26.85</td>\n",
       "      <td>48.10</td>\n",
       "    </tr>\n",
       "    <tr>\n",
       "      <th>2000-01-05</th>\n",
       "      <td>383.00</td>\n",
       "      <td>26.30</td>\n",
       "      <td>44.60</td>\n",
       "    </tr>\n",
       "    <tr>\n",
       "      <th>2000-01-06</th>\n",
       "      <td>377.50</td>\n",
       "      <td>25.95</td>\n",
       "      <td>45.25</td>\n",
       "    </tr>\n",
       "    <tr>\n",
       "      <th>2000-01-07</th>\n",
       "      <td>385.70</td>\n",
       "      <td>24.80</td>\n",
       "      <td>42.90</td>\n",
       "    </tr>\n",
       "    <tr>\n",
       "      <th>...</th>\n",
       "      <td>...</td>\n",
       "      <td>...</td>\n",
       "      <td>...</td>\n",
       "    </tr>\n",
       "    <tr>\n",
       "      <th>2021-04-26</th>\n",
       "      <td>2557.90</td>\n",
       "      <td>700.45</td>\n",
       "      <td>4736.55</td>\n",
       "    </tr>\n",
       "    <tr>\n",
       "      <th>2021-04-27</th>\n",
       "      <td>2574.35</td>\n",
       "      <td>699.55</td>\n",
       "      <td>4865.05</td>\n",
       "    </tr>\n",
       "    <tr>\n",
       "      <th>2021-04-28</th>\n",
       "      <td>2614.55</td>\n",
       "      <td>708.15</td>\n",
       "      <td>5280.90</td>\n",
       "    </tr>\n",
       "    <tr>\n",
       "      <th>2021-04-29</th>\n",
       "      <td>2613.45</td>\n",
       "      <td>719.40</td>\n",
       "      <td>5484.85</td>\n",
       "    </tr>\n",
       "    <tr>\n",
       "      <th>2021-04-30</th>\n",
       "      <td>2536.40</td>\n",
       "      <td>714.90</td>\n",
       "      <td>5451.90</td>\n",
       "    </tr>\n",
       "  </tbody>\n",
       "</table>\n",
       "<p>5306 rows × 3 columns</p>\n",
       "</div>"
      ],
      "text/plain": [
       "Symbol      ASIANPAINT  AXISBANK  BAJFINANCE\n",
       "Date                                        \n",
       "2000-01-03      381.65     26.70       50.75\n",
       "2000-01-04      385.55     26.85       48.10\n",
       "2000-01-05      383.00     26.30       44.60\n",
       "2000-01-06      377.50     25.95       45.25\n",
       "2000-01-07      385.70     24.80       42.90\n",
       "...                ...       ...         ...\n",
       "2021-04-26     2557.90    700.45     4736.55\n",
       "2021-04-27     2574.35    699.55     4865.05\n",
       "2021-04-28     2614.55    708.15     5280.90\n",
       "2021-04-29     2613.45    719.40     5484.85\n",
       "2021-04-30     2536.40    714.90     5451.90\n",
       "\n",
       "[5306 rows x 3 columns]"
      ]
     },
     "metadata": {},
     "output_type": "display_data"
    }
   ],
   "source": [
    "import numpy as np\n",
    "import pandas as pd\n",
    "import pathlib\n",
    " \n",
    "\n",
    "symbols={'BAJFINANCE','AXISBANK','ASIANPAINT'} #considered securities\n",
    "no_securities= len(symbols) \n",
    "dataframe: pd.DataFrame = pd.read_csv(r\"wall street club task csv file 2.csv\")\n",
    "dataframe= dataframe[['Date','Symbol','Close']] #creating a pandas dataframe to store the data extracted from the csv\n",
    "dataframe= dataframe.pivot(\n",
    "    index='Date',\n",
    "    columns='Symbol',\n",
    "    values='Close'\n",
    "\n",
    ")\n",
    "display(dataframe) #how the pandas dataframe looks like after importing and transposing(pivot)\n",
    "\n",
    "\n",
    "\n",
    "\n",
    "\n"
   ]
  },
  {
   "cell_type": "markdown",
   "id": "c64cd4d8",
   "metadata": {},
   "source": [
    "##The following code segment finds first the %age daily changes in the portfolio and the sharpe ratio. This is followed by the code for the Monte Carlo simuations which iterate a 1000 times to arrive at the most sharpe optimized portfolio. The number of iterations can be increaased to arrive at better sharpe optimized portfolios."
   ]
  },
  {
   "cell_type": "code",
   "execution_count": 84,
   "id": "14c8db0b",
   "metadata": {},
   "outputs": [
    {
     "name": "stdout",
     "output_type": "stream",
     "text": [
      "    Returns  Volatility    Sharpe                                                  P\n",
      "0  0.157566    0.388765  0.225241  [0.3026321662404842, 0.3725732273566277, 0.324...\n",
      "1  0.157074    0.388638  0.224048  [0.32104873230055053, 0.34314556792030115, 0.3...\n",
      "2  0.151143    0.385085  0.210715  [0.36881845578961997, 0.33732558020935, 0.2938...\n",
      "3  0.153229    0.385943  0.215651  [0.35267395508933996, 0.33805441002810804, 0.3...\n",
      "4  0.154920    0.389078  0.218259  [0.3585338845393011, 0.3006968285424046, 0.340...\n"
     ]
    }
   ],
   "source": [
    "returns=np.log(1+dataframe.pct_change())\n",
    "random_weights = np.array(np.random.random(no_securities))\n",
    "random_weights_new= random_weights/ np.sum(random_weights)\n",
    "returns_new= np.sum((returns.mean()*random_weights_new)*252)\n",
    "volat_new= np.sqrt(\n",
    "    \n",
    "np.dot(random_weights_new.T, np.dot(returns.cov()*252, random_weights_new)))\n",
    "sharpe_ratio= (returns_new-0.07)/volat_new\n",
    "\n",
    "\n",
    "weights_dataframe = pd.DataFrame(data={\n",
    "'random weights': random_weights,\n",
    "'random_weights_new' : random_weights_new\n",
    "     })\n",
    "\n",
    "metrics_dataframe = pd.DataFrame(data={\n",
    "    \n",
    "    'returns': returns_new ,\n",
    "    'volatility': volat_new,\n",
    "    'Sharpe ': sharpe_ratio\n",
    "\n",
    "                                 }, index=[0])\n",
    "\n",
    "no_securities= len(symbols)\n",
    "iterations=100\n",
    "all_weights=np.zeros((iterations,no_securities))\n",
    "returns_arr= np.zeros(iterations)\n",
    "volatility_arr= np.zeros(iterations)\n",
    "sharpe_arr=np.zeros(iterations)\n",
    "\n",
    "for ind in range(iterations):\n",
    "    \n",
    "    weights=0.3+np.array(np.random.random(no_securities)*(0.1-0.0))\n",
    "    weights=weights/np.sum(weights)\n",
    "                                   \n",
    "    for a in weights:\n",
    "        \n",
    "        if a>= 0.3:\n",
    "            all_weights[ind, :] = weights\n",
    "            returns_arr[ind]= np.sum((returns.mean()*weights)*252)\n",
    "            volatility_arr[ind]= np.sqrt(np.dot(weights.T, np.dot( returns.cov()*252, weights)))\n",
    "            sharpe_arr[ind]= (returns_arr[ind]-0.07)/ volatility_arr[ind]\n",
    "            iterations_data= [returns_arr, volatility_arr, sharpe_arr, all_weights]\n",
    "            iterations_dataframe= pd.DataFrame(data=iterations_data).T\n",
    "              \n",
    "         \n",
    "      \n",
    "iterations_dataframe.columns= ['Returns','Volatility','Sharpe','P']       \n",
    "iterations_dataframe = iterations_dataframe.infer_objects()\n",
    "print(iterations_dataframe.head())\n",
    "\n",
    "\n",
    "\n",
    "\n",
    "    \n",
    "    "
   ]
  },
  {
   "cell_type": "markdown",
   "id": "c7e65484",
   "metadata": {},
   "source": [
    "## Printing the portfolio corresponding to the most sharpe optimized distribution of weights"
   ]
  },
  {
   "cell_type": "code",
   "execution_count": 92,
   "id": "95b67fbe",
   "metadata": {},
   "outputs": [
    {
     "name": "stdout",
     "output_type": "stream",
     "text": [
      "Returns                                                0.161161\n",
      "Volatility                                             0.393446\n",
      "Sharpe                                                   0.2317\n",
      "P             [0.29117544736350665, 0.34104209508899297, 0.3...\n",
      "Name: 92, dtype: object\n"
     ]
    }
   ],
   "source": [
    "print(iterations_dataframe.loc[iterations_dataframe['Sharpe'].idxmax()])\n",
    "\n"
   ]
  },
  {
   "cell_type": "code",
   "execution_count": null,
   "id": "188e5f71",
   "metadata": {},
   "outputs": [],
   "source": []
  }
 ],
 "metadata": {
  "kernelspec": {
   "display_name": "Python 3 (ipykernel)",
   "language": "python",
   "name": "python3"
  },
  "language_info": {
   "codemirror_mode": {
    "name": "ipython",
    "version": 3
   },
   "file_extension": ".py",
   "mimetype": "text/x-python",
   "name": "python",
   "nbconvert_exporter": "python",
   "pygments_lexer": "ipython3",
   "version": "3.9.12"
  }
 },
 "nbformat": 4,
 "nbformat_minor": 5
}
