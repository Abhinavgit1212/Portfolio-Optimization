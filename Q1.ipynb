{
 "cells": [
  {
   "cell_type": "code",
   "execution_count": 1,
   "id": "6266e2aa",
   "metadata": {},
   "outputs": [],
   "source": [
    "import numpy as np\n",
    "import pathlib\n",
    "import random as rnd"
   ]
  },
  {
   "cell_type": "code",
   "execution_count": 3,
   "id": "2d2c244b",
   "metadata": {},
   "outputs": [
    {
     "name": "stdout",
     "output_type": "stream",
     "text": [
      "400\n"
     ]
    },
    {
     "data": {
      "text/plain": [
       "918.7512531328321"
      ]
     },
     "metadata": {},
     "output_type": "display_data"
    },
    {
     "data": {
      "text/plain": [
       "0.25052631578947365"
      ]
     },
     "metadata": {},
     "output_type": "display_data"
    },
    {
     "data": {
      "text/plain": [
       "95.0"
      ]
     },
     "metadata": {},
     "output_type": "display_data"
    }
   ],
   "source": [
    "import random as rnd\n",
    "import statistics\n",
    "n=int(input())\n",
    "l=[]\n",
    "ll=[]\n",
    "mus=1\n",
    "for i in range(n):\n",
    "    \n",
    "    rnd_num = rnd.randint(0,1)\n",
    "    ll.append(rnd_num)\n",
    "    if(rnd_num==0):\n",
    "       mus=mus-0.5\n",
    "    else:\n",
    "       mus=mus+1\n",
    "    \n",
    "    l.append(mus)\n",
    "    \n",
    "\n",
    "display(statistics.variance(l))\n",
    "display(statistics.variance(ll))\n",
    "display(mus)    \n",
    "    "
   ]
  },
  {
   "cell_type": "markdown",
   "id": "8667e7fb",
   "metadata": {},
   "source": [
    "## It can be observed here that as N increase, the gambler's returns increase steeply. This is to do with the fact that in any gambling game if the mathematical expectation is possitive as the number of iterations increase the returns will keep growing, likewise for games with negative expectations the gambler will eventually go bankrupt (A statistical concept explained by gamblers ruin)"
   ]
  },
  {
   "cell_type": "code",
   "execution_count": null,
   "id": "3beb29ab",
   "metadata": {},
   "outputs": [],
   "source": []
  }
 ],
 "metadata": {
  "kernelspec": {
   "display_name": "Python 3 (ipykernel)",
   "language": "python",
   "name": "python3"
  },
  "language_info": {
   "codemirror_mode": {
    "name": "ipython",
    "version": 3
   },
   "file_extension": ".py",
   "mimetype": "text/x-python",
   "name": "python",
   "nbconvert_exporter": "python",
   "pygments_lexer": "ipython3",
   "version": "3.9.12"
  }
 },
 "nbformat": 4,
 "nbformat_minor": 5
}
